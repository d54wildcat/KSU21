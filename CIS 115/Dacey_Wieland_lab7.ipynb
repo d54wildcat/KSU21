{
 "cells": [
  {
   "cell_type": "markdown",
   "metadata": {},
   "source": [
    "## Bubble Sort Example\n",
    "Remember from our previous lectures that [bubble sort](https://en.wikipedia.org/wiki/Bubble_sort) is a simple sorting algorithm that compares each pair of elements in a sequence and swaps them if they are out of order.  This is repeated until no more swaps are made.  Complete the bubble sorting algorithm using the code below to sort the list of numbers.  Your code should be fully documented."
   ]
  },
  {
   "cell_type": "code",
   "execution_count": 15,
   "metadata": {},
   "outputs": [
    {
     "name": "stdout",
     "output_type": "stream",
     "text": [
      "[63, 0, 84, 52, 94, 75, 91, 79, 29, 84]\n",
      "[0, 29, 52, 63, 75, 79, 84, 84, 91, 94]\n"
     ]
    }
   ],
   "source": [
    "import random\n",
    "\n",
    "# make a random list of 10 numbers\n",
    "numbers = [random.randint(0,100) for i in range(10)]\n",
    "print(numbers)\n",
    "def bubbleSort (numbers):\n",
    "    n = len(numbers)\n",
    "    for i in range (n-1):\n",
    "        bigger = 0\n",
    "        for j in range (n-1):\n",
    "            if numbers[j] > numbers[j+1]:\n",
    "                tmp = numbers[j]\n",
    "                numbers[j] = numbers[j+1]\n",
    "                numbers[j+1] = tmp\n",
    "                bigger = 1\n",
    "        if bigger == 0:\n",
    "            break\n",
    "    return numbers\n",
    "result = bubbleSort(numbers)\n",
    "print(result)"
   ]
  },
  {
   "cell_type": "code",
   "execution_count": null,
   "metadata": {},
   "outputs": [],
   "source": []
  }
 ],
 "metadata": {
  "kernelspec": {
   "display_name": "Python 3 (ipykernel)",
   "language": "python",
   "name": "python3"
  },
  "language_info": {
   "codemirror_mode": {
    "name": "ipython",
    "version": 3
   },
   "file_extension": ".py",
   "mimetype": "text/x-python",
   "name": "python",
   "nbconvert_exporter": "python",
   "pygments_lexer": "ipython3",
   "version": "3.9.7"
  }
 },
 "nbformat": 4,
 "nbformat_minor": 4
}

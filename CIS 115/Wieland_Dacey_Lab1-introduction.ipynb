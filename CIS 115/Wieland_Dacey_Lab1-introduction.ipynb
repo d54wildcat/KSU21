{
 "cells": [
  {
   "cell_type": "markdown",
   "metadata": {},
   "source": [
    "Create a string variable named `str_1` with which to introduce yourself with, then use `print()`  built in function to display it.  Your text might look like `Hello, my name is Josh`."
   ]
  },
  {
   "cell_type": "code",
   "execution_count": 5,
   "metadata": {},
   "outputs": [
    {
     "name": "stdout",
     "output_type": "stream",
     "text": [
      "Hi, my name is Dacey\n"
     ]
    }
   ],
   "source": [
    "str_1=\"Hi, my name is Dacey\"\n",
    "print(str_1)"
   ]
  },
  {
   "cell_type": "markdown",
   "metadata": {},
   "source": [
    "Re-define `str_1`, by adding a second sentence to it.  The second sentence should appear on a new line. Then use `print()` to print it out."
   ]
  },
  {
   "cell_type": "code",
   "execution_count": 6,
   "metadata": {},
   "outputs": [
    {
     "name": "stdout",
     "output_type": "stream",
     "text": [
      "Hi, my name is Dacey\n",
      " I am from Kansas\n"
     ]
    }
   ],
   "source": [
    "str_1=\"Hi, my name is Dacey\\n I am from Kansas\"\n",
    "print(str_1)"
   ]
  },
  {
   "cell_type": "markdown",
   "metadata": {},
   "source": [
    "Fix the code snippets below so they output correctly"
   ]
  },
  {
   "cell_type": "code",
   "execution_count": 7,
   "metadata": {},
   "outputs": [
    {
     "name": "stdout",
     "output_type": "stream",
     "text": [
      "Python is pretty fun.  I don't think it will take me long to master it\n"
     ]
    }
   ],
   "source": [
    "print(\"Python is pretty fun.  I don't think it will take me long to master it\")"
   ]
  },
  {
   "cell_type": "code",
   "execution_count": 38,
   "metadata": {},
   "outputs": [
    {
     "name": "stdout",
     "output_type": "stream",
     "text": [
      "Can you believe that\\n adds a new-line character in a string in Python?\n"
     ]
    }
   ],
   "source": [
    "print('Can you believe that\\\\n adds a new-line character in a string in Python?')"
   ]
  },
  {
   "cell_type": "code",
   "execution_count": 10,
   "metadata": {},
   "outputs": [
    {
     "name": "stdout",
     "output_type": "stream",
     "text": [
      "Some folks say putting quotes around a word like \"this\" is pretty easy, but I think its hard\n"
     ]
    }
   ],
   "source": [
    "print('Some folks say putting quotes around a word like \"this\" is pretty easy, but I think its hard')"
   ]
  },
  {
   "cell_type": "markdown",
   "metadata": {},
   "source": [
    "Define a variable `in_class`, that contains the average number of hours of classes you take compared to the rest of the time you have in a week? (class hours divided by number of hours in a week) Display this number using the `print()` function."
   ]
  },
  {
   "cell_type": "code",
   "execution_count": 17,
   "metadata": {},
   "outputs": [
    {
     "name": "stdout",
     "output_type": "stream",
     "text": [
      "16\n",
      "168\n",
      "0.09523809523809523\n"
     ]
    }
   ],
   "source": [
    "x=16\n",
    "y=168\n",
    "print(x)\n",
    "print(y)\n",
    "in_class=(x/y)\n",
    "print(in_class)"
   ]
  },
  {
   "cell_type": "markdown",
   "metadata": {},
   "source": [
    "Define and `print()` a new variable that contains the value of \"in_class\" as a percentage. If `in_class` were `0.1467`  the new strinf variable would be `14.67`."
   ]
  },
  {
   "cell_type": "code",
   "execution_count": 23,
   "metadata": {},
   "outputs": [
    {
     "name": "stdout",
     "output_type": "stream",
     "text": [
      "9.5238\n"
     ]
    }
   ],
   "source": [
    "in_class=0.095238 * 100\n",
    "print(in_class)"
   ]
  },
  {
   "cell_type": "markdown",
   "metadata": {},
   "source": [
    "Define and `print()` a variable that is the remainder of taking 4128071 divded by 46?"
   ]
  },
  {
   "cell_type": "code",
   "execution_count": 45,
   "metadata": {},
   "outputs": [
    {
     "name": "stdout",
     "output_type": "stream",
     "text": [
      "31\n"
     ]
    }
   ],
   "source": [
    "print(4128071%46)"
   ]
  },
  {
   "cell_type": "markdown",
   "metadata": {},
   "source": [
    "Define and `print()` a variable that is the is the cosine of 4?"
   ]
  },
  {
   "cell_type": "code",
   "execution_count": 41,
   "metadata": {},
   "outputs": [
    {
     "data": {
      "text/plain": [
       "-0.6536436208636119"
      ]
     },
     "execution_count": 41,
     "metadata": {},
     "output_type": "execute_result"
    }
   ],
   "source": [
    "import math\n",
    "math.cos(4)"
   ]
  },
  {
   "cell_type": "code",
   "execution_count": null,
   "metadata": {},
   "outputs": [],
   "source": []
  }
 ],
 "metadata": {
  "kernelspec": {
   "display_name": "Python 3 (ipykernel)",
   "language": "python",
   "name": "python3"
  },
  "language_info": {
   "codemirror_mode": {
    "name": "ipython",
    "version": 3
   },
   "file_extension": ".py",
   "mimetype": "text/x-python",
   "name": "python",
   "nbconvert_exporter": "python",
   "pygments_lexer": "ipython3",
   "version": "3.9.7"
  }
 },
 "nbformat": 4,
 "nbformat_minor": 4
}

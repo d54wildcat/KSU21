{
 "cells": [
  {
   "cell_type": "markdown",
   "metadata": {},
   "source": [
    "# Problem 1\n",
    "Write a function named `sum_list` that takes in a single parameter (a list) and returns the sum.  Once finished, you should call the function and print the value that is returned.  A list is provided for you to use as a parameter."
   ]
  },
  {
   "cell_type": "code",
   "execution_count": 3,
   "metadata": {
    "tags": []
   },
   "outputs": [
    {
     "data": {
      "text/plain": [
       "55"
      ]
     },
     "execution_count": 3,
     "metadata": {},
     "output_type": "execute_result"
    }
   ],
   "source": [
    "my_list = [x for x in range(1,11)]\n",
    "def sum_list(my_list):\n",
    "    total = 0\n",
    "    for number in my_list:\n",
    "        total += number\n",
    "    return total\n",
    "sum_list(my_list)"
   ]
  },
  {
   "cell_type": "raw",
   "metadata": {},
   "source": [
    "# Problem 2\n",
    "Write a function that finds the smallest of three numbers passed in as arguments.  The function should print the smallest number.  Once you finish the function, call it three times with three different sets of numbers: one where the first argument is the smallest, one where the second is the smallest, and one where the third is the smallest."
   ]
  },
  {
   "cell_type": "code",
   "execution_count": 19,
   "metadata": {
    "tags": []
   },
   "outputs": [
    {
     "name": "stdout",
     "output_type": "stream",
     "text": [
      "The min is 1\n",
      "The min is 2\n",
      "The min is 1\n"
     ]
    }
   ],
   "source": [
    "def find_min(a,b,c):\n",
    "    if a < b and a < c:\n",
    "        print(\"The min is {}\".format(a))\n",
    "    elif b < a and b < c:\n",
    "        print(\"The min is {}\".format(b))\n",
    "    elif c < a and c < b:\n",
    "        print(\"The min is {}\".format(c))\n",
    "    elif a == b and b == c:\n",
    "        print(\"The min is {}\".format(a))\n",
    "    else:\n",
    "        print(\"The min is {}\".format(b))\n",
    "              \n",
    "find_min(1,1,2)\n",
    "find_min(5,2,2)\n",
    "find_min(3,1,4)"
   ]
  },
  {
   "cell_type": "markdown",
   "metadata": {},
   "source": [
    "# Problem 3\n",
    "Write a function that takes a single string as a parameter.  This function should reverse the string and print it out.  The parameter should be a named parameter that has a default value of an empty string.  Once finished, you should call the function with at least two different words.\n"
   ]
  },
  {
   "cell_type": "code",
   "execution_count": 5,
   "metadata": {
    "tags": []
   },
   "outputs": [
    {
     "data": {
      "text/plain": [
       "'taC ocaT'"
      ]
     },
     "execution_count": 5,
     "metadata": {},
     "output_type": "execute_result"
    }
   ],
   "source": [
    "def my_favorite(Hobbies):\n",
    "    return Hobbies[::-1]\n",
    "\n",
    "my_favorite(\"Taco Cat\")"
   ]
  },
  {
   "cell_type": "markdown",
   "metadata": {},
   "source": [
    "# Problem 4\n",
    "Write a function that takes a single string as a parameter.  The function should then total up the number of lowercase and uppercase characters.  It should also print these totals in a clear way.  Be sure to call the function with a couple of sample words once you finish."
   ]
  },
  {
   "cell_type": "code",
   "execution_count": 8,
   "metadata": {
    "tags": []
   },
   "outputs": [
    {
     "name": "stdout",
     "output_type": "stream",
     "text": [
      "No. of Upper case characters :3 ,No. of Lower case characters :1\n"
     ]
    }
   ],
   "source": [
    "def a_string(s):      \n",
    "    upper = sum(1 for i in s if i.isupper())\n",
    "    lower = sum(1 for i in s if i.islower())\n",
    "    print( \"No. of Upper case characters :{} ,No. of Lower case characters :{}\".format(upper,lower))\n",
    "\n",
    "a_string(\"AAAa\")"
   ]
  },
  {
   "cell_type": "markdown",
   "metadata": {},
   "source": [
    "# Problem 5\n",
    "Write a function that takes a string and determines if it is a pangram or not and prints the result.  A string is a pangram if it contains all of the letters of the alphabet."
   ]
  },
  {
   "cell_type": "code",
   "execution_count": 10,
   "metadata": {
    "tags": []
   },
   "outputs": [
    {
     "name": "stdout",
     "output_type": "stream",
     "text": [
      "No\n"
     ]
    }
   ],
   "source": [
    "def ispangram(str):\n",
    "\talphabet = \"abcdefghijklmnopqrstuvwxyz\"\n",
    "\tfor char in alphabet:\n",
    "\t\tif char not in str.lower():\n",
    "\t\t\treturn False\n",
    "\n",
    "\treturn True\n",
    "\t\n",
    "string = 'the quick brown fox jumps over the lazy og'\n",
    "if(ispangram(string) == True):\n",
    "\tprint(\"Yes\")\n",
    "else:\n",
    "\tprint(\"No\")\n"
   ]
  },
  {
   "cell_type": "code",
   "execution_count": null,
   "metadata": {},
   "outputs": [],
   "source": []
  }
 ],
 "metadata": {
  "kernelspec": {
   "display_name": "Python 3 (ipykernel)",
   "language": "python",
   "name": "python3"
  },
  "language_info": {
   "codemirror_mode": {
    "name": "ipython",
    "version": 3
   },
   "file_extension": ".py",
   "mimetype": "text/x-python",
   "name": "python",
   "nbconvert_exporter": "python",
   "pygments_lexer": "ipython3",
   "version": "3.9.7"
  }
 },
 "nbformat": 4,
 "nbformat_minor": 4
}
